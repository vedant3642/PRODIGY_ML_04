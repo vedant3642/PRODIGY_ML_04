{
  "nbformat": 4,
  "nbformat_minor": 0,
  "metadata": {
    "colab": {
      "provenance": []
    },
    "kernelspec": {
      "name": "python3",
      "display_name": "Python 3"
    },
    "language_info": {
      "name": "python"
    }
  },
  "cells": [
    {
      "cell_type": "code",
      "execution_count": 4,
      "metadata": {
        "colab": {
          "base_uri": "https://localhost:8080/"
        },
        "id": "0MJkhv0A4ib8",
        "outputId": "cfd1e633-e285-43bc-9c1f-38fb0b151200"
      },
      "outputs": [
        {
          "output_type": "stream",
          "name": "stdout",
          "text": [
            "Path to dataset files: /kaggle/input/leapgestrecog\n"
          ]
        }
      ],
      "source": [
        "import kagglehub\n",
        "import os\n",
        "import cv2\n",
        "import numpy as np\n",
        "import matplotlib.pyplot as plt\n",
        "from sklearn.preprocessing import LabelEncoder\n",
        "from sklearn.model_selection import train_test_split\n",
        "from tensorflow.keras.utils import to_categorical\n",
        "from tensorflow.keras.models import Sequential\n",
        "from tensorflow.keras.layers import Conv2D, MaxPooling2D, Flatten, Dense, Dropout\n",
        "from tensorflow.keras.optimizers import Adam\n",
        "\n",
        "# Step 1: Download dataset\n",
        "path = kagglehub.dataset_download(\"gti-upm/leapgestrecog\")\n",
        "print(\"Path to dataset files:\", path)"
      ]
    },
    {
      "cell_type": "code",
      "source": [
        "# Step 2: Load and preprocess images\n",
        "def load_dataset(data_path, img_size=(64, 64)):\n",
        "    images = []\n",
        "    labels = []\n",
        "    print(f\"Attempting to load data from: {data_path}\")\n",
        "    for folder in os.listdir(data_path):\n",
        "        folder_path = os.path.join(data_path, folder)\n",
        "        print(f\"Checking folder: {folder_path}\")\n",
        "        if os.path.isdir(folder_path):\n",
        "            for subfolder in os.listdir(folder_path):\n",
        "                subfolder_path = os.path.join(folder_path, subfolder)\n",
        "                print(f\"Checking subfolder: {subfolder_path}\")\n",
        "                if os.path.isdir(subfolder_path):\n",
        "                    for img_file in os.listdir(subfolder_path):\n",
        "                        if img_file.endswith('.png'):\n",
        "                            img_path = os.path.join(subfolder_path, img_file)\n",
        "                            # print(f\"Found image file: {img_path}\") # Uncomment for verbose debugging\n",
        "                            img = cv2.imread(img_path, cv2.IMREAD_GRAYSCALE)\n",
        "                            img = cv2.resize(img, img_size)\n",
        "\n",
        "                            # Normalize pixel values to [0, 1]\n",
        "                            img = img.astype('float32') / 255.0\n",
        "\n",
        "                            # Reshape to add channel dimension (for CNN)\n",
        "                            img = np.expand_dims(img, axis=-1)\n",
        "\n",
        "                            images.append(img)\n",
        "                            labels.append(folder) # Use the main folder name as the label\n",
        "    return np.array(images), np.array(labels)\n",
        "\n",
        "# Load dataset\n",
        "data_dir = os.path.join(path, \"leapGestRecog\")  # 'leapGestRecog' is the dataset folder\n",
        "X, y = load_dataset(data_dir)\n",
        "\n",
        "print(\"Data directory:\", data_dir)\n",
        "print(\"Labels (y) after loading:\", y[:10]) # Print first 10 labels to check if any were loaded\n",
        "print(\"Number of labels loaded:\", len(y))\n",
        "print(\"Dataset shape:\", X.shape, y.shape)"
      ],
      "metadata": {
        "colab": {
          "base_uri": "https://localhost:8080/"
        },
        "id": "RwhngAZl4oT8",
        "outputId": "ea86dd9a-7e21-4e5d-dcc5-6b3ac1165bf6"
      },
      "execution_count": 14,
      "outputs": [
        {
          "output_type": "stream",
          "name": "stdout",
          "text": [
            "Attempting to load data from: /kaggle/input/leapgestrecog/leapGestRecog\n",
            "Checking folder: /kaggle/input/leapgestrecog/leapGestRecog/07\n",
            "Checking subfolder: /kaggle/input/leapgestrecog/leapGestRecog/07/02_l\n",
            "Checking subfolder: /kaggle/input/leapgestrecog/leapGestRecog/07/04_fist_moved\n",
            "Checking subfolder: /kaggle/input/leapgestrecog/leapGestRecog/07/09_c\n",
            "Checking subfolder: /kaggle/input/leapgestrecog/leapGestRecog/07/10_down\n",
            "Checking subfolder: /kaggle/input/leapgestrecog/leapGestRecog/07/06_index\n",
            "Checking subfolder: /kaggle/input/leapgestrecog/leapGestRecog/07/08_palm_moved\n",
            "Checking subfolder: /kaggle/input/leapgestrecog/leapGestRecog/07/07_ok\n",
            "Checking subfolder: /kaggle/input/leapgestrecog/leapGestRecog/07/05_thumb\n",
            "Checking subfolder: /kaggle/input/leapgestrecog/leapGestRecog/07/01_palm\n",
            "Checking subfolder: /kaggle/input/leapgestrecog/leapGestRecog/07/03_fist\n",
            "Checking folder: /kaggle/input/leapgestrecog/leapGestRecog/05\n",
            "Checking subfolder: /kaggle/input/leapgestrecog/leapGestRecog/05/02_l\n",
            "Checking subfolder: /kaggle/input/leapgestrecog/leapGestRecog/05/04_fist_moved\n",
            "Checking subfolder: /kaggle/input/leapgestrecog/leapGestRecog/05/09_c\n",
            "Checking subfolder: /kaggle/input/leapgestrecog/leapGestRecog/05/10_down\n",
            "Checking subfolder: /kaggle/input/leapgestrecog/leapGestRecog/05/06_index\n",
            "Checking subfolder: /kaggle/input/leapgestrecog/leapGestRecog/05/08_palm_moved\n",
            "Checking subfolder: /kaggle/input/leapgestrecog/leapGestRecog/05/07_ok\n",
            "Checking subfolder: /kaggle/input/leapgestrecog/leapGestRecog/05/05_thumb\n",
            "Checking subfolder: /kaggle/input/leapgestrecog/leapGestRecog/05/01_palm\n",
            "Checking subfolder: /kaggle/input/leapgestrecog/leapGestRecog/05/03_fist\n",
            "Checking folder: /kaggle/input/leapgestrecog/leapGestRecog/06\n",
            "Checking subfolder: /kaggle/input/leapgestrecog/leapGestRecog/06/02_l\n",
            "Checking subfolder: /kaggle/input/leapgestrecog/leapGestRecog/06/04_fist_moved\n",
            "Checking subfolder: /kaggle/input/leapgestrecog/leapGestRecog/06/09_c\n",
            "Checking subfolder: /kaggle/input/leapgestrecog/leapGestRecog/06/10_down\n",
            "Checking subfolder: /kaggle/input/leapgestrecog/leapGestRecog/06/06_index\n",
            "Checking subfolder: /kaggle/input/leapgestrecog/leapGestRecog/06/08_palm_moved\n",
            "Checking subfolder: /kaggle/input/leapgestrecog/leapGestRecog/06/07_ok\n",
            "Checking subfolder: /kaggle/input/leapgestrecog/leapGestRecog/06/05_thumb\n",
            "Checking subfolder: /kaggle/input/leapgestrecog/leapGestRecog/06/01_palm\n",
            "Checking subfolder: /kaggle/input/leapgestrecog/leapGestRecog/06/03_fist\n",
            "Checking folder: /kaggle/input/leapgestrecog/leapGestRecog/02\n",
            "Checking subfolder: /kaggle/input/leapgestrecog/leapGestRecog/02/02_l\n",
            "Checking subfolder: /kaggle/input/leapgestrecog/leapGestRecog/02/04_fist_moved\n",
            "Checking subfolder: /kaggle/input/leapgestrecog/leapGestRecog/02/09_c\n",
            "Checking subfolder: /kaggle/input/leapgestrecog/leapGestRecog/02/10_down\n",
            "Checking subfolder: /kaggle/input/leapgestrecog/leapGestRecog/02/06_index\n",
            "Checking subfolder: /kaggle/input/leapgestrecog/leapGestRecog/02/08_palm_moved\n",
            "Checking subfolder: /kaggle/input/leapgestrecog/leapGestRecog/02/07_ok\n",
            "Checking subfolder: /kaggle/input/leapgestrecog/leapGestRecog/02/05_thumb\n",
            "Checking subfolder: /kaggle/input/leapgestrecog/leapGestRecog/02/01_palm\n",
            "Checking subfolder: /kaggle/input/leapgestrecog/leapGestRecog/02/03_fist\n",
            "Checking folder: /kaggle/input/leapgestrecog/leapGestRecog/04\n",
            "Checking subfolder: /kaggle/input/leapgestrecog/leapGestRecog/04/02_l\n",
            "Checking subfolder: /kaggle/input/leapgestrecog/leapGestRecog/04/04_fist_moved\n",
            "Checking subfolder: /kaggle/input/leapgestrecog/leapGestRecog/04/09_c\n",
            "Checking subfolder: /kaggle/input/leapgestrecog/leapGestRecog/04/10_down\n",
            "Checking subfolder: /kaggle/input/leapgestrecog/leapGestRecog/04/06_index\n",
            "Checking subfolder: /kaggle/input/leapgestrecog/leapGestRecog/04/08_palm_moved\n",
            "Checking subfolder: /kaggle/input/leapgestrecog/leapGestRecog/04/07_ok\n",
            "Checking subfolder: /kaggle/input/leapgestrecog/leapGestRecog/04/05_thumb\n",
            "Checking subfolder: /kaggle/input/leapgestrecog/leapGestRecog/04/01_palm\n",
            "Checking subfolder: /kaggle/input/leapgestrecog/leapGestRecog/04/03_fist\n",
            "Checking folder: /kaggle/input/leapgestrecog/leapGestRecog/00\n",
            "Checking subfolder: /kaggle/input/leapgestrecog/leapGestRecog/00/02_l\n",
            "Checking subfolder: /kaggle/input/leapgestrecog/leapGestRecog/00/04_fist_moved\n",
            "Checking subfolder: /kaggle/input/leapgestrecog/leapGestRecog/00/09_c\n",
            "Checking subfolder: /kaggle/input/leapgestrecog/leapGestRecog/00/10_down\n",
            "Checking subfolder: /kaggle/input/leapgestrecog/leapGestRecog/00/06_index\n",
            "Checking subfolder: /kaggle/input/leapgestrecog/leapGestRecog/00/08_palm_moved\n",
            "Checking subfolder: /kaggle/input/leapgestrecog/leapGestRecog/00/07_ok\n",
            "Checking subfolder: /kaggle/input/leapgestrecog/leapGestRecog/00/05_thumb\n",
            "Checking subfolder: /kaggle/input/leapgestrecog/leapGestRecog/00/01_palm\n",
            "Checking subfolder: /kaggle/input/leapgestrecog/leapGestRecog/00/03_fist\n",
            "Checking folder: /kaggle/input/leapgestrecog/leapGestRecog/08\n",
            "Checking subfolder: /kaggle/input/leapgestrecog/leapGestRecog/08/02_l\n",
            "Checking subfolder: /kaggle/input/leapgestrecog/leapGestRecog/08/04_fist_moved\n",
            "Checking subfolder: /kaggle/input/leapgestrecog/leapGestRecog/08/09_c\n",
            "Checking subfolder: /kaggle/input/leapgestrecog/leapGestRecog/08/10_down\n",
            "Checking subfolder: /kaggle/input/leapgestrecog/leapGestRecog/08/06_index\n",
            "Checking subfolder: /kaggle/input/leapgestrecog/leapGestRecog/08/08_palm_moved\n",
            "Checking subfolder: /kaggle/input/leapgestrecog/leapGestRecog/08/07_ok\n",
            "Checking subfolder: /kaggle/input/leapgestrecog/leapGestRecog/08/05_thumb\n",
            "Checking subfolder: /kaggle/input/leapgestrecog/leapGestRecog/08/01_palm\n",
            "Checking subfolder: /kaggle/input/leapgestrecog/leapGestRecog/08/03_fist\n",
            "Checking folder: /kaggle/input/leapgestrecog/leapGestRecog/09\n",
            "Checking subfolder: /kaggle/input/leapgestrecog/leapGestRecog/09/02_l\n",
            "Checking subfolder: /kaggle/input/leapgestrecog/leapGestRecog/09/04_fist_moved\n",
            "Checking subfolder: /kaggle/input/leapgestrecog/leapGestRecog/09/09_c\n",
            "Checking subfolder: /kaggle/input/leapgestrecog/leapGestRecog/09/10_down\n",
            "Checking subfolder: /kaggle/input/leapgestrecog/leapGestRecog/09/06_index\n",
            "Checking subfolder: /kaggle/input/leapgestrecog/leapGestRecog/09/08_palm_moved\n",
            "Checking subfolder: /kaggle/input/leapgestrecog/leapGestRecog/09/07_ok\n",
            "Checking subfolder: /kaggle/input/leapgestrecog/leapGestRecog/09/05_thumb\n",
            "Checking subfolder: /kaggle/input/leapgestrecog/leapGestRecog/09/01_palm\n",
            "Checking subfolder: /kaggle/input/leapgestrecog/leapGestRecog/09/03_fist\n",
            "Checking folder: /kaggle/input/leapgestrecog/leapGestRecog/03\n",
            "Checking subfolder: /kaggle/input/leapgestrecog/leapGestRecog/03/02_l\n",
            "Checking subfolder: /kaggle/input/leapgestrecog/leapGestRecog/03/04_fist_moved\n",
            "Checking subfolder: /kaggle/input/leapgestrecog/leapGestRecog/03/09_c\n",
            "Checking subfolder: /kaggle/input/leapgestrecog/leapGestRecog/03/10_down\n",
            "Checking subfolder: /kaggle/input/leapgestrecog/leapGestRecog/03/06_index\n",
            "Checking subfolder: /kaggle/input/leapgestrecog/leapGestRecog/03/08_palm_moved\n",
            "Checking subfolder: /kaggle/input/leapgestrecog/leapGestRecog/03/07_ok\n",
            "Checking subfolder: /kaggle/input/leapgestrecog/leapGestRecog/03/05_thumb\n",
            "Checking subfolder: /kaggle/input/leapgestrecog/leapGestRecog/03/01_palm\n",
            "Checking subfolder: /kaggle/input/leapgestrecog/leapGestRecog/03/03_fist\n",
            "Checking folder: /kaggle/input/leapgestrecog/leapGestRecog/01\n",
            "Checking subfolder: /kaggle/input/leapgestrecog/leapGestRecog/01/02_l\n",
            "Checking subfolder: /kaggle/input/leapgestrecog/leapGestRecog/01/04_fist_moved\n",
            "Checking subfolder: /kaggle/input/leapgestrecog/leapGestRecog/01/09_c\n",
            "Checking subfolder: /kaggle/input/leapgestrecog/leapGestRecog/01/10_down\n",
            "Checking subfolder: /kaggle/input/leapgestrecog/leapGestRecog/01/06_index\n",
            "Checking subfolder: /kaggle/input/leapgestrecog/leapGestRecog/01/08_palm_moved\n",
            "Checking subfolder: /kaggle/input/leapgestrecog/leapGestRecog/01/07_ok\n",
            "Checking subfolder: /kaggle/input/leapgestrecog/leapGestRecog/01/05_thumb\n",
            "Checking subfolder: /kaggle/input/leapgestrecog/leapGestRecog/01/01_palm\n",
            "Checking subfolder: /kaggle/input/leapgestrecog/leapGestRecog/01/03_fist\n",
            "Data directory: /kaggle/input/leapgestrecog/leapGestRecog\n",
            "Labels (y) after loading: ['07' '07' '07' '07' '07' '07' '07' '07' '07' '07']\n",
            "Number of labels loaded: 20000\n",
            "Dataset shape: (20000, 64, 64, 1) (20000,)\n"
          ]
        }
      ]
    },
    {
      "cell_type": "code",
      "source": [
        "# Step 3: Encode labels and split\n",
        "le = LabelEncoder()\n",
        "y_encoded = le.fit_transform(y)\n",
        "y_categorical = to_categorical(y_encoded)\n",
        "\n",
        "X_train, X_test, y_train, y_test = train_test_split(X, y_categorical, test_size=0.2, random_state=42, stratify=y_encoded)\n",
        "\n",
        "print(\"Training data shape:\", X_train.shape, y_train.shape)\n",
        "print(\"Testing data shape:\", X_test.shape, y_test.shape)"
      ],
      "metadata": {
        "colab": {
          "base_uri": "https://localhost:8080/"
        },
        "id": "qP-RX9O85cS3",
        "outputId": "93f8e17c-896d-495e-c117-78babcd97fe5"
      },
      "execution_count": 15,
      "outputs": [
        {
          "output_type": "stream",
          "name": "stdout",
          "text": [
            "Training data shape: (16000, 64, 64, 1) (16000, 10)\n",
            "Testing data shape: (4000, 64, 64, 1) (4000, 10)\n"
          ]
        }
      ]
    },
    {
      "cell_type": "code",
      "metadata": {
        "colab": {
          "base_uri": "https://localhost:8080/"
        },
        "id": "07b9bc5e",
        "outputId": "cb63535f-0545-4620-eaac-80e27bbfeb35"
      },
      "source": [
        "# Step 4: Build CNN model\n",
        "model = Sequential([\n",
        "    Conv2D(32, (3, 3), activation='relu', input_shape=X.shape[1:]),\n",
        "    MaxPooling2D(2, 2),\n",
        "    Conv2D(64, (3, 3), activation='relu'),\n",
        "    MaxPooling2D(2, 2),\n",
        "    Flatten(),\n",
        "    Dropout(0.5),\n",
        "    Dense(128, activation='relu'),\n",
        "    Dense(y_categorical.shape[1], activation='softmax')\n",
        "])\n",
        "\n",
        "model.compile(optimizer=Adam(), loss='categorical_crossentropy', metrics=['accuracy'])\n",
        "\n",
        "# Step 5: Train the model\n",
        "model.fit(X_train, y_train, epochs=10, batch_size=32, validation_split=0.1)"
      ],
      "execution_count": 16,
      "outputs": [
        {
          "output_type": "stream",
          "name": "stderr",
          "text": [
            "/usr/local/lib/python3.11/dist-packages/keras/src/layers/convolutional/base_conv.py:107: UserWarning: Do not pass an `input_shape`/`input_dim` argument to a layer. When using Sequential models, prefer using an `Input(shape)` object as the first layer in the model instead.\n",
            "  super().__init__(activity_regularizer=activity_regularizer, **kwargs)\n"
          ]
        },
        {
          "output_type": "stream",
          "name": "stdout",
          "text": [
            "Epoch 1/10\n",
            "\u001b[1m450/450\u001b[0m \u001b[32m━━━━━━━━━━━━━━━━━━━━\u001b[0m\u001b[37m\u001b[0m \u001b[1m74s\u001b[0m 160ms/step - accuracy: 0.7164 - loss: 0.8300 - val_accuracy: 0.9825 - val_loss: 0.0653\n",
            "Epoch 2/10\n",
            "\u001b[1m450/450\u001b[0m \u001b[32m━━━━━━━━━━━━━━━━━━━━\u001b[0m\u001b[37m\u001b[0m \u001b[1m71s\u001b[0m 157ms/step - accuracy: 0.9898 - loss: 0.0345 - val_accuracy: 0.9925 - val_loss: 0.0144\n",
            "Epoch 3/10\n",
            "\u001b[1m450/450\u001b[0m \u001b[32m━━━━━━━━━━━━━━━━━━━━\u001b[0m\u001b[37m\u001b[0m \u001b[1m83s\u001b[0m 160ms/step - accuracy: 0.9911 - loss: 0.0246 - val_accuracy: 0.9937 - val_loss: 0.0178\n",
            "Epoch 4/10\n",
            "\u001b[1m450/450\u001b[0m \u001b[32m━━━━━━━━━━━━━━━━━━━━\u001b[0m\u001b[37m\u001b[0m \u001b[1m85s\u001b[0m 166ms/step - accuracy: 0.9892 - loss: 0.0241 - val_accuracy: 0.9900 - val_loss: 0.0198\n",
            "Epoch 5/10\n",
            "\u001b[1m450/450\u001b[0m \u001b[32m━━━━━━━━━━━━━━━━━━━━\u001b[0m\u001b[37m\u001b[0m \u001b[1m72s\u001b[0m 159ms/step - accuracy: 0.9928 - loss: 0.0160 - val_accuracy: 0.9869 - val_loss: 0.0264\n",
            "Epoch 6/10\n",
            "\u001b[1m450/450\u001b[0m \u001b[32m━━━━━━━━━━━━━━━━━━━━\u001b[0m\u001b[37m\u001b[0m \u001b[1m80s\u001b[0m 155ms/step - accuracy: 0.9913 - loss: 0.0207 - val_accuracy: 0.9912 - val_loss: 0.0134\n",
            "Epoch 7/10\n",
            "\u001b[1m450/450\u001b[0m \u001b[32m━━━━━━━━━━━━━━━━━━━━\u001b[0m\u001b[37m\u001b[0m \u001b[1m73s\u001b[0m 162ms/step - accuracy: 0.9919 - loss: 0.0150 - val_accuracy: 0.9931 - val_loss: 0.0125\n",
            "Epoch 8/10\n",
            "\u001b[1m450/450\u001b[0m \u001b[32m━━━━━━━━━━━━━━━━━━━━\u001b[0m\u001b[37m\u001b[0m \u001b[1m88s\u001b[0m 174ms/step - accuracy: 0.9926 - loss: 0.0139 - val_accuracy: 0.9925 - val_loss: 0.0123\n",
            "Epoch 9/10\n",
            "\u001b[1m450/450\u001b[0m \u001b[32m━━━━━━━━━━━━━━━━━━━━\u001b[0m\u001b[37m\u001b[0m \u001b[1m77s\u001b[0m 164ms/step - accuracy: 0.9916 - loss: 0.0141 - val_accuracy: 0.9912 - val_loss: 0.0148\n",
            "Epoch 10/10\n",
            "\u001b[1m450/450\u001b[0m \u001b[32m━━━━━━━━━━━━━━━━━━━━\u001b[0m\u001b[37m\u001b[0m \u001b[1m86s\u001b[0m 174ms/step - accuracy: 0.9928 - loss: 0.0122 - val_accuracy: 0.9931 - val_loss: 0.0122\n"
          ]
        },
        {
          "output_type": "execute_result",
          "data": {
            "text/plain": [
              "<keras.src.callbacks.history.History at 0x7c766deb37d0>"
            ]
          },
          "metadata": {},
          "execution_count": 16
        }
      ]
    },
    {
      "cell_type": "code",
      "source": [
        "# Step 6: Evaluate\n",
        "loss, acc = model.evaluate(X_test, y_test)\n",
        "print(f\"Test Accuracy: {acc:.2f}\")\n",
        "\n",
        "# Optional: Save model\n",
        "model.save(\"hand_gesture_cnn.h5\")\n",
        "print(\"Model saved to hand_gesture_cnn.h5\")"
      ],
      "metadata": {
        "colab": {
          "base_uri": "https://localhost:8080/"
        },
        "id": "w08cFz8771Oo",
        "outputId": "16765c2c-e01a-463c-b8de-1ebc8352983c"
      },
      "execution_count": 17,
      "outputs": [
        {
          "output_type": "stream",
          "name": "stdout",
          "text": [
            "\u001b[1m125/125\u001b[0m \u001b[32m━━━━━━━━━━━━━━━━━━━━\u001b[0m\u001b[37m\u001b[0m \u001b[1m5s\u001b[0m 42ms/step - accuracy: 0.9904 - loss: 0.0148\n"
          ]
        },
        {
          "output_type": "stream",
          "name": "stderr",
          "text": [
            "WARNING:absl:You are saving your model as an HDF5 file via `model.save()` or `keras.saving.save_model(model)`. This file format is considered legacy. We recommend using instead the native Keras format, e.g. `model.save('my_model.keras')` or `keras.saving.save_model(model, 'my_model.keras')`. \n"
          ]
        },
        {
          "output_type": "stream",
          "name": "stdout",
          "text": [
            "Test Accuracy: 0.99\n",
            "Model saved to hand_gesture_cnn.h5\n"
          ]
        }
      ]
    },
    {
      "cell_type": "code",
      "source": [],
      "metadata": {
        "id": "Z8VrGi5vArWX"
      },
      "execution_count": null,
      "outputs": []
    }
  ]
}